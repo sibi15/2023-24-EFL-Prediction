{
 "cells": [
  {
   "cell_type": "code",
   "execution_count": null,
   "id": "44d51857",
   "metadata": {},
   "outputs": [],
   "source": [
    "import pandas as pd\n",
    "import numpy as np\n",
    "import statsmodels.formula.api as smf\n",
    "import matplotlib.pyplot as plt\n",
    "import seaborn as sns"
   ]
  },
  {
   "cell_type": "code",
   "execution_count": null,
   "id": "65933eb5",
   "metadata": {},
   "outputs": [],
   "source": [
    "data = pd.DataFrame()"
   ]
  },
  {
   "cell_type": "code",
   "execution_count": null,
   "id": "f55672c4",
   "metadata": {},
   "outputs": [],
   "source": [
    "teams = [\"Barnsley\",\"Birmingham City\",\"Blackburn Rovers\",\"Blackpool\",\"Bournemouth\",\"Brentford\",\"Bristol City\",\"Burnley\",\n",
    "\"Cardiff City\",\"Charlton Athletic\",\"Coventry City\",\"Derby County\",\"Fulham\",\"Huddersfield Town\",\"Hull City\",\"Ipswich Town\",\n",
    "\"Leeds United\",\"Leicester City\",\"Luton Town\",\"Middlesbrough\",\"Millwall\",\"Norwich City\",\"Nottingham Forest\",\n",
    "\"Peterborough United\",\"Plymouth Argyle\",\"Preston North End\",\"Queens Park Rangers\",\"Reading\",\"Rotherham United\",\n",
    "\"Sheffield Wednesday\",\"Sheffield United\",\"Stoke City\",\"Southampton\",\"Sunderland\",\"Swansea City\",\"Watford\",\n",
    "\"West Bromwich Albion\",\"Wigan Athletic\",\"Wycombe Wanderers\"]"
   ]
  },
  {
   "cell_type": "code",
   "execution_count": null,
   "id": "9ca53a49",
   "metadata": {},
   "outputs": [],
   "source": [
    "for i in range(19,24):\n",
    "    for team in teams:\n",
    "        try:\n",
    "            data = pd.concat([data, pd.read_excel(\"EFL_\" + str(i) + \"_\" + str(i+1) + \"/Team Stats \" + \n",
    "                   team + \".xlsx\")], ignore_index=True)\n",
    "        except FileNotFoundError:\n",
    "            pass"
   ]
  },
  {
   "cell_type": "code",
   "execution_count": null,
   "id": "5a35077c",
   "metadata": {},
   "outputs": [],
   "source": [
    "data = data[['Date','Match','Goals','Conceded goals','Possession, %','Duration']]"
   ]
  },
  {
   "cell_type": "markdown",
   "id": "091c8b3e",
   "metadata": {},
   "source": [
    "### Data Cleaning and Preparation (Mungling)"
   ]
  },
  {
   "cell_type": "markdown",
   "id": "79363182",
   "metadata": {},
   "source": [
    "##### (i) Adding \"Team\" column (to remove NaN)"
   ]
  },
  {
   "cell_type": "code",
   "execution_count": null,
   "id": "27fcef5b",
   "metadata": {},
   "outputs": [],
   "source": [
    "fill_team = \"\"\n",
    "start = 0\n",
    "end = 0\n",
    "data['Team'] = np.nan\n",
    "\n",
    "for i in data['Date']:\n",
    "    if i[0]==\"2\":\n",
    "        end+=1\n",
    "    else:\n",
    "        data['Team'][start:end] = fill_team\n",
    "        fill_team = i\n",
    "        start=end\n",
    "        end+=1\n",
    "data['Team'][5225:] = data['Date'][5225]"
   ]
  },
  {
   "cell_type": "markdown",
   "id": "c21f7fba",
   "metadata": {},
   "source": [
    "#### (ii) Modifying \"Date\" column (str to int)"
   ]
  },
  {
   "cell_type": "code",
   "execution_count": null,
   "id": "eed4da03",
   "metadata": {},
   "outputs": [],
   "source": [
    "data = data.dropna(axis=0)\n",
    "data['Date'] = data['Date'].str.replace('-', '').astype(int)\n",
    "data = data.reset_index(drop=True)"
   ]
  },
  {
   "cell_type": "markdown",
   "id": "9b52cd14",
   "metadata": {},
   "source": [
    "#### (iii) Modifying \"Goals\" and \"Goals Conceded\" columns (float to int)"
   ]
  },
  {
   "cell_type": "code",
   "execution_count": null,
   "id": "52c6a0f7",
   "metadata": {},
   "outputs": [],
   "source": [
    "data['Goals'] = data['Goals'].astype(int)\n",
    "data['Conceded goals'] = data['Conceded goals'].astype(int)"
   ]
  },
  {
   "cell_type": "markdown",
   "id": "a3936c8a",
   "metadata": {},
   "source": [
    "#### (iv) Adding required columns"
   ]
  },
  {
   "cell_type": "code",
   "execution_count": null,
   "id": "f3f38931",
   "metadata": {},
   "outputs": [],
   "source": [
    "start = 0\n",
    "data['Opponent Team'] = np.nan\n",
    "data['H/A'] = np.nan\n",
    "for i in data['Match']:\n",
    "    temp = i[:-4].split(\" - \")\n",
    "    data['Opponent Team'][start:start+1] = np.where(temp[0]==data['Team'][start:start+1],temp[1].strip(),temp[0].strip())\n",
    "    data['H/A'][start:start+1] = np.where(temp[0]==data['Team'][start:start+1],'H','A')\n",
    "    start+=1\n",
    "    \n",
    "data['Opponent Possession'] = 100 - data['Possession, %']"
   ]
  },
  {
   "cell_type": "markdown",
   "id": "952b2947",
   "metadata": {},
   "source": [
    "#### (v) Filtering required columns"
   ]
  },
  {
   "cell_type": "code",
   "execution_count": null,
   "id": "a8db2e0a",
   "metadata": {},
   "outputs": [],
   "source": [
    "data = data[['Date','Team','Opponent Team','H/A','Goals','Conceded goals','Possession, %','Opponent Possession','Duration']]"
   ]
  },
  {
   "cell_type": "markdown",
   "id": "e06ff8cf",
   "metadata": {},
   "source": [
    "##### (vi) Rename columns"
   ]
  },
  {
   "cell_type": "code",
   "execution_count": null,
   "id": "eceb2023",
   "metadata": {},
   "outputs": [],
   "source": [
    "data = data.rename(columns={'Conceded goals':'Goals Conceded','Possession, %':'Possession'})"
   ]
  },
  {
   "cell_type": "markdown",
   "id": "5cb77340",
   "metadata": {},
   "source": [
    "#### (vii) Data splitting based on season (dates)"
   ]
  },
  {
   "cell_type": "code",
   "execution_count": null,
   "id": "16fc6dea",
   "metadata": {},
   "outputs": [],
   "source": [
    "data_19_20 = data[(data.Date <= 20200722) & (data.Date >= 20190802)] #20200804 (10 knockout games)\n",
    "data_20_21 = data[(data.Date <= 20210508) & (data.Date >= 20200911)] #20210529 (10 knockout games)\n",
    "data_21_22 = data[(data.Date <= 20220507) & (data.Date >= 20210806)] #20220529 (10 knockout games)\n",
    "data_22_23 = data[(data.Date <= 20230508) & (data.Date >= 20220729)] #20230527 (10 knockout games)\n",
    "data_23_24 = data[(data.Date <= 20240122) & (data.Date >= 20230804)]"
   ]
  },
  {
   "cell_type": "markdown",
   "id": "7ab691db",
   "metadata": {},
   "source": [
    "#### (viii) Adding rows not in dataset"
   ]
  },
  {
   "cell_type": "code",
   "execution_count": null,
   "id": "01b94355",
   "metadata": {},
   "outputs": [],
   "source": [
    "data_20_21 = data_20_21.append({'Date': 20200926, 'Team': \"Birmingham City\", 'Opponent Team': \"Rotherham United\",\n",
    "                               'H/A':\"H\",'Goals':1,'Goals Conceded':1,'Possession':57.5,'Opponent Possession':42.5,\n",
    "                               'Duration':95.0} , ignore_index = True)\n",
    "data_20_21 = data_20_21.append({'Date': 20200926, 'Team': \"Rotherham United\", 'Opponent Team': \"Birmingham City\",\n",
    "                               'H/A':\"A\",'Goals':1,'Goals Conceded':1,'Possession':42.5,'Opponent Possession':57.5,\n",
    "                               'Duration':95.0} , ignore_index = True)\n",
    "data_20_21 = data_20_21.sort_values(by=[\"Team\",\"Date\"], ascending=[True,False])\n",
    "data_20_21.reset_index(drop=True, inplace=True)"
   ]
  },
  {
   "cell_type": "markdown",
   "id": "cd592d53",
   "metadata": {},
   "source": [
    "### Data Analysis and Transformation (Statistics)"
   ]
  },
  {
   "cell_type": "markdown",
   "id": "2959d967",
   "metadata": {},
   "source": [
    "#### (i) Calculating and adding necessary variables to dataset"
   ]
  },
  {
   "cell_type": "code",
   "execution_count": null,
   "id": "138a2d98",
   "metadata": {},
   "outputs": [],
   "source": [
    "seasons_data = [data_19_20,data_20_21,data_21_22,data_22_23,data_23_24]\n",
    "seasons_tables = []\n",
    "\n",
    "for season in seasons_data:\n",
    "    season['PTs'] = np.where(season['Goals']>season['Goals Conceded'],3,np.where(season['Goals']==season['Goals Conceded'],1,0))\n",
    "    season['W'] = np.where(season['PTs']==3,1,0)\n",
    "    season['D'] = np.where(season['PTs']==1,1,0)\n",
    "    season['L'] = np.where(season['PTs']==0,1,0)\n",
    "    season['Goal Difference'] = season['Goals'] - season['Goals Conceded']\n",
    "    season['Matches'] = 1\n",
    "\n",
    "    season = season.groupby(['Team'])['Matches','W','D','L','Goals','Goals Conceded','Goal Difference','PTs'].sum().reset_index()\n",
    "    season = season.rename(columns={'Matches':'MP','Goals':'GF','Goals Conceded':'GA','Goal Difference':'GD'})\n",
    "    season.reset_index(drop=True, inplace=True)\n",
    "    seasons_tables.append(season)\n",
    "    \n",
    "table_19_20 = seasons_tables[0]\n",
    "table_20_21 = seasons_tables[1]\n",
    "table_21_22 = seasons_tables[2]\n",
    "table_22_23 = seasons_tables[3]\n",
    "table_23_24 = seasons_tables[4]"
   ]
  },
  {
   "cell_type": "markdown",
   "id": "0cd4656b",
   "metadata": {},
   "source": [
    "#### (ii) Season by season accounting for wrong stats (eg: PTs (reduction) and GA/GD)"
   ]
  },
  {
   "cell_type": "code",
   "execution_count": null,
   "id": "9d01ed7b",
   "metadata": {},
   "outputs": [],
   "source": [
    "table_19_20.loc[table_19_20['Team'] == 'Birmingham City', 'GA'] += 1\n",
    "table_19_20.loc[table_19_20['Team'] == 'Birmingham City', 'GD'] -= 1\n",
    "table_19_20.loc[table_19_20['Team'] == 'Hull City', 'GA'] += 1\n",
    "table_19_20.loc[table_19_20['Team'] == 'Hull City', 'GD'] -= 1\n",
    "table_19_20.loc[table_19_20['Team'] == 'Hull City', 'PTs'] -= 1\n",
    "\n",
    "temp = table_19_20[['Team','PTs','GF','GD']]\n",
    "temp = temp.rename(columns={'Team':'Team_Actual','PTs':'PTs_Actual'})\n",
    "temp = temp.sort_values(by=[\"PTs_Actual\", \"GD\",\"GF\"], ascending=[False, False,False])\n",
    "temp.reset_index(drop=True, inplace=True)\n",
    "\n",
    "table_19_20.loc[table_19_20['Team'] == 'Wigan Athletic', 'PTs'] -= 12\n",
    "\n",
    "table_19_20 = table_19_20.sort_values(by=[\"PTs\", \"GD\",\"GF\"], ascending=[False, False,False])\n",
    "table_19_20.reset_index(drop=True, inplace=True)\n",
    "table_19_20 = pd.concat([table_19_20, temp[['Team_Actual','PTs_Actual']]], axis=1)\n",
    "table_19_20"
   ]
  },
  {
   "cell_type": "code",
   "execution_count": null,
   "id": "34bb979b",
   "metadata": {},
   "outputs": [],
   "source": [
    "table_20_21.loc[table_20_21['Team'] == 'Blackburn Rovers', 'GA'] += 1\n",
    "table_20_21.loc[table_20_21['Team'] == 'Blackburn Rovers', 'GD'] -= 1\n",
    "\n",
    "temp = table_20_21[['Team','PTs','GF','GD']]\n",
    "temp = temp.rename(columns={'Team':'Team_Actual','PTs':'PTs_Actual'})\n",
    "temp = temp.sort_values(by=[\"PTs_Actual\", \"GD\",\"GF\"], ascending=[False, False,False])\n",
    "temp.reset_index(drop=True, inplace=True)\n",
    "\n",
    "table_20_21.loc[table_20_21['Team'] == 'Sheffield Wednesday', 'PTs'] -= 6\n",
    "\n",
    "table_20_21 = table_20_21.sort_values(by=[\"PTs\", \"GD\",\"GF\"], ascending=[False, False,False])\n",
    "table_20_21.reset_index(drop=True, inplace=True)\n",
    "table_20_21 = pd.concat([table_20_21, temp[['Team_Actual','PTs_Actual']]], axis=1)\n",
    "table_20_21"
   ]
  },
  {
   "cell_type": "code",
   "execution_count": null,
   "id": "399e82cf",
   "metadata": {},
   "outputs": [],
   "source": [
    "temp = table_21_22[['Team','PTs','GF','GD']]\n",
    "temp = temp.rename(columns={'Team':'Team_Actual','PTs':'PTs_Actual'})\n",
    "temp = temp.sort_values(by=[\"PTs_Actual\", \"GD\",\"GF\"], ascending=[False, False,False])\n",
    "temp.reset_index(drop=True, inplace=True)\n",
    "\n",
    "table_21_22.loc[table_21_22['Team'] == 'Derby County', 'PTs'] -= 21\n",
    "\n",
    "table_21_22 = table_21_22.sort_values(by=[\"PTs\", \"GD\",\"GF\"], ascending=[False, False,False])\n",
    "table_21_22.reset_index(drop=True, inplace=True)\n",
    "table_21_22 = pd.concat([table_21_22, temp[['Team_Actual','PTs_Actual']]], axis=1)\n",
    "table_21_22"
   ]
  },
  {
   "cell_type": "code",
   "execution_count": null,
   "id": "7237a956",
   "metadata": {},
   "outputs": [],
   "source": [
    "temp = table_22_23[['Team','PTs','GF','GD']]\n",
    "temp = temp.rename(columns={'Team':'Team_Actual','PTs':'PTs_Actual'})\n",
    "temp = temp.sort_values(by=[\"PTs_Actual\", \"GD\",\"GF\"], ascending=[False, False,False])\n",
    "temp.reset_index(drop=True, inplace=True)\n",
    "\n",
    "table_22_23.loc[table_22_23['Team'] == 'Reading', 'PTs'] -= 6\n",
    "table_22_23.loc[table_22_23['Team'] == 'Wigan Athletic', 'PTs'] -= 6\n",
    "\n",
    "table_22_23 = table_22_23.sort_values(by=[\"PTs\", \"GD\",\"GF\"], ascending=[False, False,False])\n",
    "table_22_23.reset_index(drop=True, inplace=True)\n",
    "table_22_23 = pd.concat([table_22_23, temp[['Team_Actual','PTs_Actual']]], axis=1)\n",
    "table_22_23"
   ]
  },
  {
   "cell_type": "code",
   "execution_count": null,
   "id": "a4ad2441",
   "metadata": {},
   "outputs": [],
   "source": [
    "table_23_24 = table_23_24.sort_values(by=[\"PTs\", \"GD\",\"GF\"], ascending=[False, False,False])\n",
    "table_23_24.reset_index(drop=True, inplace=True)\n",
    "table_23_24"
   ]
  },
  {
   "cell_type": "markdown",
   "id": "4281f68e",
   "metadata": {},
   "source": [
    "#### (iii) Adding variables needed for Pythagorean Win Expectancy Calculation"
   ]
  },
  {
   "cell_type": "code",
   "execution_count": null,
   "id": "096aff96",
   "metadata": {},
   "outputs": [],
   "source": [
    "tables = [table_19_20,table_20_21,table_21_22,table_22_23,table_23_24]\n",
    "final_tables = []\n",
    "\n",
    "for table in tables:\n",
    "    table['Win_PC'] = table['W']/table['MP']\n",
    "    table['Pyth_Exp'] = table['GF']**2/(table['GF']**2+table['GA']**2)\n",
    "    final_tables.append(table)\n",
    "    \n",
    "table_19_20 = final_tables[0]\n",
    "table_20_21 = final_tables[1]\n",
    "table_21_22 = final_tables[2]\n",
    "table_22_23 = final_tables[3]\n",
    "table_23_24 = final_tables[4]"
   ]
  },
  {
   "cell_type": "markdown",
   "id": "c3a22065",
   "metadata": {},
   "source": [
    "#### (iv) Correlation between Win % and Pythagorean Win Expectancy"
   ]
  },
  {
   "cell_type": "code",
   "execution_count": null,
   "id": "79f36121",
   "metadata": {},
   "outputs": [],
   "source": [
    "graphs = []\n",
    "j = 2019\n",
    "for i in final_tables:\n",
    "    #graphs.append(sns.relplot(x=\"Pyth_Exp\", y=\"Win_PC\", data = i).set(title='Season '+str(j)+\"_\"+str((j+1)%100)))\n",
    "    graphs.append(sns.relplot(x=\"Pyth_Exp\", y=\"Win_PC\", data = i).set(title='Season '+str(j)+\"_\"+str((j+1)%100)+\" (Corr: \" + str(i['Pyth_Exp'].corr(i['Win_PC'])) + \")\"))\n",
    "    j+=1\n",
    "for i in graphs:\n",
    "    plt.show()"
   ]
  },
  {
   "cell_type": "markdown",
   "id": "f8fab3d5",
   "metadata": {},
   "source": [
    "#### (v) Regression Generation (to show dependability of Pythagorean Win Expectancy that can be used as a predictor in 2023/24)"
   ]
  },
  {
   "cell_type": "code",
   "execution_count": null,
   "id": "ddb023e2",
   "metadata": {
    "scrolled": true
   },
   "outputs": [],
   "source": [
    "regressions = []\n",
    "for i in final_tables:\n",
    "    regressions.append(smf.ols(formula = 'Win_PC ~ Pyth_Exp', data=i).fit())\n",
    "j=2019\n",
    "for i in regressions:\n",
    "    print('\\n\\n\\n\\t\\t\\t\\tSeason '+str(j)+\"_\"+str((j+1)%100)+\"\\n\")\n",
    "    print(i.summary())\n",
    "    j+=1"
   ]
  },
  {
   "cell_type": "markdown",
   "id": "6d2c7a04",
   "metadata": {},
   "source": [
    "### Testing the Reliability of Pythagorean Win Expectancy using 2 halves of 2023/24"
   ]
  },
  {
   "cell_type": "markdown",
   "id": "a1df7397",
   "metadata": {},
   "source": [
    "#### (i) Splitting 23/24 into 2 halves and calculating needed variables"
   ]
  },
  {
   "cell_type": "code",
   "execution_count": null,
   "id": "619c2226",
   "metadata": {},
   "outputs": [],
   "source": [
    "#data_half_1_23_24 = data[(data.Date <= 20231107) & (data.Date >= 20230804)]\n",
    "#data_half_2_23_24 = data[(data.Date >= 20231110)]\n",
    "data_half_1_23_24 = data[(data.Date <= 20231101) & (data.Date >= 20230804)]\n",
    "data_half_2_23_24 = data[(data.Date <= 20240122) & (data.Date >= 20231102)]\n",
    "\n",
    "data_half_1_23_24['PTs'] = np.where(data_half_1_23_24['Goals']>data_half_1_23_24['Goals Conceded'],3,np.where(data_half_1_23_24['Goals']==data_half_1_23_24['Goals Conceded'],1,0))\n",
    "data_half_1_23_24['W'] = np.where(data_half_1_23_24['PTs']==3,1,0)\n",
    "data_half_1_23_24['D'] = np.where(data_half_1_23_24['PTs']==1,1,0)\n",
    "data_half_1_23_24['L'] = np.where(data_half_1_23_24['PTs']==0,1,0)\n",
    "data_half_1_23_24['Matches'] = 1\n",
    "data_half_1_23_24 = data_half_1_23_24.groupby(['Team'])['Matches','W','D','L','Goals','Goals Conceded','PTs'].sum().reset_index()\n",
    "data_half_1_23_24 = data_half_1_23_24.rename(columns={'Matches':'MP1','W':'W1','D':'D1','L':'L1','Goals':'GF1','Goals Conceded':'GA1'})\n",
    "data_half_1_23_24['Win_PC_1'] = data_half_1_23_24['W1']/data_half_1_23_24['MP1']\n",
    "data_half_1_23_24['Pyth_Exp_1'] = data_half_1_23_24['GF1']**2/(data_half_1_23_24['GF1']**2 + data_half_1_23_24['GA1']**2)\n",
    "\n",
    "data_half_2_23_24['PTs'] = np.where(data_half_2_23_24['Goals']>data_half_2_23_24['Goals Conceded'],3,np.where(data_half_2_23_24['Goals']==data_half_2_23_24['Goals Conceded'],1,0))\n",
    "data_half_2_23_24['W'] = np.where(data_half_2_23_24['PTs']==3,1,0)\n",
    "data_half_2_23_24['D'] = np.where(data_half_2_23_24['PTs']==1,1,0)\n",
    "data_half_2_23_24['L'] = np.where(data_half_2_23_24['PTs']==0,1,0)\n",
    "data_half_2_23_24['Matches'] = 1\n",
    "data_half_2_23_24 = data_half_2_23_24.groupby(['Team'])['Matches','W','D','L','Goals','Goals Conceded','PTs'].sum().reset_index()\n",
    "data_half_2_23_24 = data_half_2_23_24.rename(columns={'Matches':'MP2','W':'W2','D':'D2','L':'L2','Goals':'GF2','Goals Conceded':'GA2'})\n",
    "data_half_2_23_24['Win_PC_2'] = data_half_2_23_24['W2']/data_half_2_23_24['MP2']\n",
    "data_half_2_23_24['Pyth_Exp_2'] = data_half_2_23_24['GF2']**2/(data_half_2_23_24['GF2']**2 + data_half_2_23_24['GA2']**2)"
   ]
  },
  {
   "cell_type": "markdown",
   "id": "09817ae5",
   "metadata": {},
   "source": [
    "#### (ii) Combining both halves after calculation of needed variables"
   ]
  },
  {
   "cell_type": "code",
   "execution_count": null,
   "id": "c8afe7dc",
   "metadata": {},
   "outputs": [],
   "source": [
    "predictor = pd.merge(data_half_1_23_24, data_half_2_23_24, on='Team')\n",
    "pd.set_option('display.max_columns', None)"
   ]
  },
  {
   "cell_type": "markdown",
   "id": "48c27509",
   "metadata": {},
   "source": [
    "#### (iii) Relevance of Pythagorean Win Expectancy over Win %"
   ]
  },
  {
   "cell_type": "code",
   "execution_count": null,
   "id": "bd83563f",
   "metadata": {},
   "outputs": [],
   "source": [
    "sns.relplot(x=\"Pyth_Exp_1\", y=\"Win_PC_2\", data = predictor).set(title='Correlation for Pyth_Exp_1 ~ Win_PC_2: ' + str(predictor['Pyth_Exp_1'].corr(predictor['Win_PC_2'])) + \" for Season 2023/24\")\n",
    "sns.relplot(x=\"Win_PC_1\", y=\"Win_PC_2\", data = predictor).set(title='Correlation for Win_PC_1 ~ Win_PC_2: ' + str(predictor['Win_PC_1'].corr(predictor['Win_PC_2'])) + \" for Season 2023/24\")\n",
    "plt.show()"
   ]
  },
  {
   "cell_type": "code",
   "execution_count": null,
   "id": "97263e3c",
   "metadata": {},
   "outputs": [],
   "source": [
    "keyvars = predictor[['Team','Win_PC_2','Win_PC_1','Pyth_Exp_1','Pyth_Exp_2']]\n",
    "keyvars.corr()"
   ]
  },
  {
   "cell_type": "markdown",
   "id": "685898e5",
   "metadata": {},
   "source": [
    "### Final Prediction of 2023/24"
   ]
  },
  {
   "cell_type": "markdown",
   "id": "672861ad",
   "metadata": {},
   "source": [
    "#### (i) Taking the full 23/24 season data after proving reliability of Pythagorean Win Expectancy"
   ]
  },
  {
   "cell_type": "code",
   "execution_count": null,
   "id": "479c23ee",
   "metadata": {},
   "outputs": [],
   "source": [
    "prediction_23_24 = data[(data.Date <= 20240122) & (data.Date >= 20230804)]\n",
    "prediction_23_24['PTs'] = np.where(prediction_23_24['Goals']>prediction_23_24['Goals Conceded'],3,np.where(prediction_23_24['Goals']==prediction_23_24['Goals Conceded'],1,0))\n",
    "prediction_23_24['W'] = np.where(prediction_23_24['PTs']==3,1,0)\n",
    "prediction_23_24['Matches'] = 1\n",
    "prediction_23_24 = prediction_23_24.groupby(['Team'])['Matches','W','Goals','Goals Conceded','PTs'].sum().reset_index()\n",
    "prediction_23_24 = prediction_23_24.rename(columns={'Matches':'MP','W':'W1','Goals':'GF','Goals Conceded':'GA'})\n",
    "prediction_23_24['Pyth'] = prediction_23_24['GF']**2/(prediction_23_24['GF']**2 + prediction_23_24['GA']**2)\n",
    "prediction_23_24"
   ]
  },
  {
   "cell_type": "markdown",
   "id": "1d20b6cd",
   "metadata": {},
   "source": [
    "#### (ii) Final Prediction"
   ]
  },
  {
   "cell_type": "code",
   "execution_count": null,
   "id": "b2241de1",
   "metadata": {},
   "outputs": [],
   "source": [
    "prediction_23_24['X_PTs'] = prediction_23_24['PTs'] + prediction_23_24['Pyth']*54   # 18 remaining games\n",
    "prediction_23_24['X_PTs'] = prediction_23_24['X_PTs'].astype(int)\n",
    "#prediction_23_24['X_PTs'] = prediction_23_24['Pyth']*138\n",
    "prediction_23_24['MP'] = 46\n",
    "prediction_23_24 = prediction_23_24[['Team','MP','X_PTs','Pyth']]\n",
    "prediction_23_24.sort_values(by='X_PTs', ascending=False, inplace=True)\n",
    "prediction_23_24.reset_index(drop=True,inplace=True)\n",
    "prediction_23_24"
   ]
  },
  {
   "cell_type": "markdown",
   "id": "255d6088",
   "metadata": {},
   "source": [
    "### DONE"
   ]
  },
  {
   "cell_type": "markdown",
   "id": "d23967f0",
   "metadata": {},
   "source": [
    "#### For document"
   ]
  },
  {
   "cell_type": "code",
   "execution_count": null,
   "id": "55ef902f",
   "metadata": {},
   "outputs": [],
   "source": [
    "sns.relplot(x=\"Pyth_Exp\", y=\"Win_PC\", data = table_19_20).set(title=\"Season 2019/20\" + \" (Corr: \" + str(table_19_20['Pyth_Exp'].corr(table_19_20['Win_PC'])) + \")\")\n",
    "plt.show()"
   ]
  },
  {
   "cell_type": "code",
   "execution_count": null,
   "id": "41222dce",
   "metadata": {},
   "outputs": [],
   "source": [
    "sns.relplot(x=\"Pyth_Exp\", y=\"Win_PC\", data = table_20_21).set(title=\"Season 2020/21\" + \" (Corr: \" + str(table_20_21['Pyth_Exp'].corr(table_20_21['Win_PC'])) + \")\")\n",
    "plt.show()"
   ]
  },
  {
   "cell_type": "code",
   "execution_count": null,
   "id": "ba47f34c",
   "metadata": {},
   "outputs": [],
   "source": [
    "sns.relplot(x=\"Pyth_Exp\", y=\"Win_PC\", data = table_21_22).set(title=\"Season 2021/22\" + \" (Corr: \" + str(table_21_22['Pyth_Exp'].corr(table_21_22['Win_PC'])) + \")\")\n",
    "plt.show()"
   ]
  },
  {
   "cell_type": "code",
   "execution_count": null,
   "id": "84e73732",
   "metadata": {},
   "outputs": [],
   "source": [
    "sns.relplot(x=\"Pyth_Exp\", y=\"Win_PC\", data = table_22_23).set(title=\"Season 2022/23\" + \" (Corr: \" + str(table_22_23['Pyth_Exp'].corr(table_22_23['Win_PC'])) + \")\")\n",
    "plt.show()"
   ]
  },
  {
   "cell_type": "code",
   "execution_count": null,
   "id": "9b607cdc",
   "metadata": {},
   "outputs": [],
   "source": [
    "print('\\n\\n\\n\\t\\t\\t\\tSeason 2019/20'+\"\\n\")\n",
    "print(smf.ols(formula = 'Win_PC ~ Pyth_Exp', data=table_19_20).fit().summary())"
   ]
  },
  {
   "cell_type": "code",
   "execution_count": null,
   "id": "077e971a",
   "metadata": {},
   "outputs": [],
   "source": [
    "print('\\n\\n\\n\\t\\t\\t\\tSeason 2020/21'+\"\\n\")\n",
    "print(smf.ols(formula = 'Win_PC ~ Pyth_Exp', data=table_20_21).fit().summary())"
   ]
  },
  {
   "cell_type": "code",
   "execution_count": null,
   "id": "b1200e89",
   "metadata": {},
   "outputs": [],
   "source": [
    "print('\\n\\n\\n\\t\\t\\t\\tSeason 2021/22'+\"\\n\")\n",
    "print(smf.ols(formula = 'Win_PC ~ Pyth_Exp', data=table_21_22).fit().summary())"
   ]
  },
  {
   "cell_type": "code",
   "execution_count": null,
   "id": "0ee7a0b2",
   "metadata": {},
   "outputs": [],
   "source": [
    "print('\\n\\n\\n\\t\\t\\t\\tSeason 2022/23'+\"\\n\")\n",
    "print(smf.ols(formula = 'Win_PC ~ Pyth_Exp', data=table_22_23).fit().summary())"
   ]
  },
  {
   "cell_type": "markdown",
   "id": "049d65ed",
   "metadata": {},
   "source": [
    "#### For saving"
   ]
  },
  {
   "cell_type": "code",
   "execution_count": null,
   "id": "f4d58571",
   "metadata": {},
   "outputs": [],
   "source": [
    "data_19_20\n",
    "data_19_20.to_excel('data_19_20.xlsx', index=False)\n",
    "data_20_21\n",
    "data_20_21.to_excel('data_20_21.xlsx', index=False)\n",
    "data_21_22\n",
    "data_21_22.to_excel('data_21_22.xlsx', index=False)\n",
    "data_22_23\n",
    "data_22_23.to_excel('data_22_23.xlsx', index=False)\n",
    "\n",
    "table_19_20\n",
    "table_19_20.to_excel('table_19_20.xlsx', index=False)\n",
    "table_20_21\n",
    "table_20_21.to_excel('table_20_21.xlsx', index=False)\n",
    "table_21_22\n",
    "table_21_22.to_excel('table_21_22.xlsx', index=False)\n",
    "table_22_23\n",
    "table_22_23.to_excel('table_22_23.xlsx', index=False)"
   ]
  },
  {
   "cell_type": "code",
   "execution_count": null,
   "id": "313592fc",
   "metadata": {},
   "outputs": [],
   "source": [
    "sns.relplot(x=\"Pyth_Exp\", y=\"Win_PC\", data = table_19_20).set(title=\"Season 2019/20\" + \" (Corr: \" + str(table_19_20['Pyth_Exp'].corr(table_19_20['Win_PC'])) + \")\")\n",
    "plt.savefig(\"graph_19_20.jpg\")\n",
    "sns.relplot(x=\"Pyth_Exp\", y=\"Win_PC\", data = table_20_21).set(title=\"Season 2020/21\" + \" (Corr: \" + str(table_20_21['Pyth_Exp'].corr(table_20_21['Win_PC'])) + \")\")\n",
    "plt.savefig(\"graph_20_21.jpg\")\n",
    "sns.relplot(x=\"Pyth_Exp\", y=\"Win_PC\", data = table_21_22).set(title=\"Season 2021/22\" + \" (Corr: \" + str(table_21_22['Pyth_Exp'].corr(table_21_22['Win_PC'])) + \")\")\n",
    "plt.savefig(\"graph_21_22.jpg\")\n",
    "sns.relplot(x=\"Pyth_Exp\", y=\"Win_PC\", data = table_22_23).set(title=\"Season 2022/23\" + \" (Corr: \" + str(table_22_23['Pyth_Exp'].corr(table_22_23['Win_PC'])) + \")\")\n",
    "plt.savefig(\"graph_22_23.jpg\")\n",
    "\n",
    "#### Regression direct screenshot saving\n",
    "smf.ols(formula = 'Win_PC ~ Pyth_Exp', data=table_19_20).fit().summary()\n",
    "smf.ols(formula = 'Win_PC ~ Pyth_Exp', data=table_20_21).fit().summary()\n",
    "smf.ols(formula = 'Win_PC ~ Pyth_Exp', data=table_21_22).fit().summary()\n",
    "smf.ols(formula = 'Win_PC ~ Pyth_Exp', data=table_22_23).fit().summary()"
   ]
  }
 ],
 "metadata": {
  "kernelspec": {
   "display_name": "Python 3 (ipykernel)",
   "language": "python",
   "name": "python3"
  },
  "language_info": {
   "codemirror_mode": {
    "name": "ipython",
    "version": 3
   },
   "file_extension": ".py",
   "mimetype": "text/x-python",
   "name": "python",
   "nbconvert_exporter": "python",
   "pygments_lexer": "ipython3",
   "version": "3.9.13"
  }
 },
 "nbformat": 4,
 "nbformat_minor": 5
}
